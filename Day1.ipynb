{
 "cells": [
  {
   "cell_type": "markdown",
   "id": "a74a5060-b9d8-4ef5-8555-c0e2924fea21",
   "metadata": {},
   "source": [
    "Exercise 1"
   ]
  },
  {
   "cell_type": "code",
   "execution_count": 38,
   "id": "3e579019-6a51-42c2-bd69-a46687415759",
   "metadata": {},
   "outputs": [
    {
     "name": "stdout",
     "output_type": "stream",
     "text": [
      "Elf number 150 carries the most calories, equal to 71471.0.\n"
     ]
    }
   ],
   "source": [
    "max_calories = 0\n",
    "max_elf = 1\n",
    "elf_calories = 0\n",
    "elf = 1\n",
    "\n",
    "with open('day1-ex1') as file:\n",
    "    for calories in file:\n",
    "        if calories != '\\n':\n",
    "            elf_calories += float(calories)\n",
    "        else:\n",
    "            if elf_calories > max_calories:\n",
    "                max_calories = elf_calories\n",
    "                max_elf = elf\n",
    "            elf += 1\n",
    "            elf_calories = 0\n",
    "        \n",
    "print(f\"Elf number {max_elf} carries the most calories, equal to {max_calories}.\")"
   ]
  },
  {
   "cell_type": "markdown",
   "id": "37571ddd-7508-4f90-9350-9109592c429e",
   "metadata": {},
   "source": [
    "Exercise 2"
   ]
  },
  {
   "cell_type": "code",
   "execution_count": 52,
   "id": "07bfcbc7-3fa7-4ee6-a63a-ceb5d34328fa",
   "metadata": {},
   "outputs": [
    {
     "data": {
      "text/plain": [
       "211189.0"
      ]
     },
     "execution_count": 52,
     "metadata": {},
     "output_type": "execute_result"
    }
   ],
   "source": [
    "calories_list = []\n",
    "\n",
    "with open('day1-ex1') as file:\n",
    "    for calories in file:\n",
    "        if calories != '\\n':\n",
    "            elf_calories += float(calories)\n",
    "        else:\n",
    "            calories_list.append(elf_calories)\n",
    "            elf_calories = 0\n",
    "            \n",
    "calories_list.sort(reverse = True)\n",
    "sum(calories_list[0:3])"
   ]
  }
 ],
 "metadata": {
  "kernelspec": {
   "display_name": "Python 3 (ipykernel)",
   "language": "python",
   "name": "python3"
  },
  "language_info": {
   "codemirror_mode": {
    "name": "ipython",
    "version": 3
   },
   "file_extension": ".py",
   "mimetype": "text/x-python",
   "name": "python",
   "nbconvert_exporter": "python",
   "pygments_lexer": "ipython3",
   "version": "3.10.6"
  }
 },
 "nbformat": 4,
 "nbformat_minor": 5
}
