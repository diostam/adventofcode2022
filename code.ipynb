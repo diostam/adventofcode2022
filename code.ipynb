{
 "cells": [
  {
   "cell_type": "markdown",
   "id": "cb9d82e5-fab8-4965-b748-953faf0a4b2c",
   "metadata": {},
   "source": [
    "# Day 1"
   ]
  },
  {
   "cell_type": "markdown",
   "id": "a74a5060-b9d8-4ef5-8555-c0e2924fea21",
   "metadata": {},
   "source": [
    "## Exercise 1"
   ]
  },
  {
   "cell_type": "code",
   "execution_count": 38,
   "id": "3e579019-6a51-42c2-bd69-a46687415759",
   "metadata": {},
   "outputs": [
    {
     "name": "stdout",
     "output_type": "stream",
     "text": [
      "Elf number 150 carries the most calories, equal to 71471.0.\n"
     ]
    }
   ],
   "source": [
    "max_calories = 0\n",
    "max_elf = 1\n",
    "elf_calories = 0\n",
    "elf = 1\n",
    "\n",
    "with open('day1-input') as file:\n",
    "    for calories in file:\n",
    "        if calories != '\\n':\n",
    "            elf_calories += float(calories)\n",
    "        else:\n",
    "            if elf_calories > max_calories:\n",
    "                max_calories = elf_calories\n",
    "                max_elf = elf\n",
    "            elf += 1\n",
    "            elf_calories = 0\n",
    "        \n",
    "print(f\"Elf number {max_elf} carries the most calories, equal to {max_calories}.\")"
   ]
  },
  {
   "cell_type": "markdown",
   "id": "37571ddd-7508-4f90-9350-9109592c429e",
   "metadata": {},
   "source": [
    "## Exercise 2"
   ]
  },
  {
   "cell_type": "code",
   "execution_count": 52,
   "id": "07bfcbc7-3fa7-4ee6-a63a-ceb5d34328fa",
   "metadata": {},
   "outputs": [
    {
     "data": {
      "text/plain": [
       "211189.0"
      ]
     },
     "execution_count": 52,
     "metadata": {},
     "output_type": "execute_result"
    }
   ],
   "source": [
    "calories_list = []\n",
    "\n",
    "with open('day1-ex1') as file:\n",
    "    for calories in file:\n",
    "        if calories != '\\n':\n",
    "            elf_calories += float(calories)\n",
    "        else:\n",
    "            calories_list.append(elf_calories)\n",
    "            elf_calories = 0\n",
    "            \n",
    "calories_list.sort(reverse = True)\n",
    "sum(calories_list[0:3])"
   ]
  },
  {
   "cell_type": "markdown",
   "id": "f8be4b17-1ec1-4590-a3e9-5385ce10dd0b",
   "metadata": {
    "tags": []
   },
   "source": [
    "# Day 2"
   ]
  },
  {
   "cell_type": "markdown",
   "id": "88e8aed5-6210-486c-9ee0-f3a5a50225ee",
   "metadata": {},
   "source": [
    "## Exercise 1"
   ]
  },
  {
   "cell_type": "code",
   "execution_count": 48,
   "id": "4f4706a4-5fc3-42c6-be77-ffeebd0e1947",
   "metadata": {},
   "outputs": [],
   "source": [
    "import pandas as pd"
   ]
  },
  {
   "cell_type": "code",
   "execution_count": 49,
   "id": "8198b7ea-ae16-43c5-8e34-3f49101501e7",
   "metadata": {},
   "outputs": [
    {
     "data": {
      "text/html": [
       "<div>\n",
       "<style scoped>\n",
       "    .dataframe tbody tr th:only-of-type {\n",
       "        vertical-align: middle;\n",
       "    }\n",
       "\n",
       "    .dataframe tbody tr th {\n",
       "        vertical-align: top;\n",
       "    }\n",
       "\n",
       "    .dataframe thead th {\n",
       "        text-align: right;\n",
       "    }\n",
       "</style>\n",
       "<table border=\"1\" class=\"dataframe\">\n",
       "  <thead>\n",
       "    <tr style=\"text-align: right;\">\n",
       "      <th></th>\n",
       "      <th>other</th>\n",
       "      <th>me</th>\n",
       "      <th>game</th>\n",
       "    </tr>\n",
       "  </thead>\n",
       "  <tbody>\n",
       "    <tr>\n",
       "      <th>0</th>\n",
       "      <td>C</td>\n",
       "      <td>Y</td>\n",
       "      <td>CY</td>\n",
       "    </tr>\n",
       "    <tr>\n",
       "      <th>1</th>\n",
       "      <td>B</td>\n",
       "      <td>Y</td>\n",
       "      <td>BY</td>\n",
       "    </tr>\n",
       "    <tr>\n",
       "      <th>2</th>\n",
       "      <td>C</td>\n",
       "      <td>Y</td>\n",
       "      <td>CY</td>\n",
       "    </tr>\n",
       "    <tr>\n",
       "      <th>3</th>\n",
       "      <td>B</td>\n",
       "      <td>X</td>\n",
       "      <td>BX</td>\n",
       "    </tr>\n",
       "    <tr>\n",
       "      <th>4</th>\n",
       "      <td>B</td>\n",
       "      <td>X</td>\n",
       "      <td>BX</td>\n",
       "    </tr>\n",
       "  </tbody>\n",
       "</table>\n",
       "</div>"
      ],
      "text/plain": [
       "  other me game\n",
       "0     C  Y   CY\n",
       "1     B  Y   BY\n",
       "2     C  Y   CY\n",
       "3     B  X   BX\n",
       "4     B  X   BX"
      ]
     },
     "execution_count": 49,
     "metadata": {},
     "output_type": "execute_result"
    }
   ],
   "source": [
    "strategy = pd.read_csv('day2-input', names = ['other', 'me'], sep = ' ')\n",
    "strategy['game'] = strategy['other'] + strategy['me']\n",
    "strategy.head()"
   ]
  },
  {
   "cell_type": "code",
   "execution_count": 50,
   "id": "030a96d1-c52a-4e7d-b9b8-171cdb27ee85",
   "metadata": {},
   "outputs": [],
   "source": [
    "rocks = (strategy['me'] == 'X').sum() * 1\n",
    "papers = (strategy['me'] == 'Y').sum() * 2\n",
    "scissors = (strategy['me'] == 'Z').sum() * 3\n",
    "\n",
    "wins = 6 * ((strategy['game'] == 'AY').sum() + (strategy['game'] == 'BZ').sum() + (strategy['game'] == 'CX').sum())\n",
    "draws = 3 * ((strategy['game'] == 'AX').sum() + (strategy['game'] == 'BY').sum() + (strategy['game'] == 'CZ').sum())"
   ]
  },
  {
   "cell_type": "code",
   "execution_count": 51,
   "id": "14d9f6b0-0e0b-4d0e-8522-76c571466731",
   "metadata": {},
   "outputs": [
    {
     "data": {
      "text/plain": [
       "9759"
      ]
     },
     "execution_count": 51,
     "metadata": {},
     "output_type": "execute_result"
    }
   ],
   "source": [
    "rocks + papers + scissors + wins + draws"
   ]
  },
  {
   "cell_type": "markdown",
   "id": "070fc63a-bfb9-4cd3-9f7a-458b84b15f44",
   "metadata": {},
   "source": [
    "Exercise 2"
   ]
  },
  {
   "cell_type": "code",
   "execution_count": 54,
   "id": "076c0297-93b1-41d5-aa11-81bde8322246",
   "metadata": {},
   "outputs": [],
   "source": [
    "wins = (strategy['me'] == 'Z').sum() * 6\n",
    "draws = (strategy['me'] == 'Y').sum() * 3\n",
    "\n",
    "rocks = 1 * ((strategy['game'] == 'AY').sum() + (strategy['game'] == 'BX').sum() + (strategy['game'] == 'CZ').sum())\n",
    "papers = 2 * ((strategy['game'] == 'AZ').sum() + (strategy['game'] == 'BY').sum() + (strategy['game'] == 'CX').sum())\n",
    "scissors = 3 * ((strategy['game'] == 'AX').sum() + (strategy['game'] == 'BZ').sum() + (strategy['game'] == 'CY').sum())"
   ]
  },
  {
   "cell_type": "code",
   "execution_count": 55,
   "id": "25af433b-dae4-485d-9fb2-6402f43942d1",
   "metadata": {},
   "outputs": [
    {
     "data": {
      "text/plain": [
       "12429"
      ]
     },
     "execution_count": 55,
     "metadata": {},
     "output_type": "execute_result"
    }
   ],
   "source": [
    "rocks + papers + scissors + wins + draws"
   ]
  },
  {
   "cell_type": "markdown",
   "id": "7e0a5ec0-5343-457a-b1b4-90f98185931a",
   "metadata": {},
   "source": [
    "# Day 3"
   ]
  },
  {
   "cell_type": "markdown",
   "id": "40f0264d-4ae5-4fd8-a25b-01894c694284",
   "metadata": {},
   "source": [
    "## Exercise 1"
   ]
  },
  {
   "cell_type": "markdown",
   "id": "04b784b0-f16e-4cd7-8c34-74a54d278f32",
   "metadata": {},
   "source": [
    "I will use the ASCII code of each character to get their priority. https://en.wikipedia.org/wiki/ASCII\n",
    "\n",
    "`Lowercase priority = ascii_value - 96`\n",
    "\n",
    "`Uppercase priority = ascii_value - 38`"
   ]
  },
  {
   "cell_type": "code",
   "execution_count": 8,
   "id": "b8c294c1-dbf1-466f-98e4-18238c163198",
   "metadata": {},
   "outputs": [
    {
     "name": "stdout",
     "output_type": "stream",
     "text": [
      "7990\n"
     ]
    }
   ],
   "source": [
    "priorities_sum = 0\n",
    "with open('day3-input') as file:\n",
    "    for line in file:\n",
    "        ruchsack = list(line)[:-1]\n",
    "        first_compartment = ruchsack[0:int(len(ruchsack)/2)]\n",
    "        second_compartment = ruchsack[int(len(ruchsack)/2):]\n",
    "        for char in first_compartment:\n",
    "            if char in second_compartment:\n",
    "                if char.isupper():\n",
    "                    priorities_sum += (ord(char) - 38)\n",
    "                else:\n",
    "                    priorities_sum += (ord(char) - 96)\n",
    "                break # I don't like using the break command; I could use a while loop instead :(\n",
    "                    \n",
    "print(priorities_sum)"
   ]
  },
  {
   "cell_type": "markdown",
   "id": "f9fab53e-d49d-4c93-82df-82e08b44f3fe",
   "metadata": {},
   "source": [
    "## Exercise 2"
   ]
  },
  {
   "cell_type": "code",
   "execution_count": 5,
   "id": "587703ff-cc4e-40ce-b945-c63a23ee8cb0",
   "metadata": {},
   "outputs": [],
   "source": [
    "def get_priority(char):\n",
    "    if char.isupper():\n",
    "        value = ord(char) - 38\n",
    "    else:\n",
    "        value = ord(char) - 96\n",
    "        \n",
    "    return value"
   ]
  },
  {
   "cell_type": "code",
   "execution_count": 8,
   "id": "f48bca04-f37b-4855-a3b0-155006da41e2",
   "metadata": {},
   "outputs": [
    {
     "name": "stdout",
     "output_type": "stream",
     "text": [
      "2602\n"
     ]
    }
   ],
   "source": [
    "priorities_sum = 0\n",
    "elf = 1\n",
    "group = []\n",
    "with open('day3-input') as file:\n",
    "    for line in file:\n",
    "        ruchsack = list(line)[:-1]\n",
    "        group.append(ruchsack)\n",
    "        if elf == 3:\n",
    "            char = list(set.intersection(*map(set, group)))\n",
    "            priorities_sum += get_priority(char[0])\n",
    "            group = []\n",
    "            elf = 1\n",
    "        else:\n",
    "            elf += 1\n",
    "            continue\n",
    "print(priorities_sum)"
   ]
  },
  {
   "cell_type": "markdown",
   "id": "78780138-2e0b-4013-a187-25759b966ed4",
   "metadata": {},
   "source": [
    "# Day 4"
   ]
  },
  {
   "cell_type": "markdown",
   "id": "d720c851-2f92-4357-bc13-c04f1158821b",
   "metadata": {},
   "source": [
    "## Exercise 1"
   ]
  },
  {
   "cell_type": "code",
   "execution_count": 16,
   "id": "e0cbde92-e88b-4bac-a162-aaa4769e7810",
   "metadata": {},
   "outputs": [
    {
     "name": "stdout",
     "output_type": "stream",
     "text": [
      "571\n"
     ]
    }
   ],
   "source": [
    "counter = 0\n",
    "with open('day4-input') as file:\n",
    "\n",
    "    for pair in file:\n",
    "        \n",
    "        # get first and last id for each elf in a pair\n",
    "        first_elf = pair.split(',')[0]\n",
    "        first_elf_id1 = int(first_elf.split('-')[0])\n",
    "        first_elf_id2 = int(first_elf.split('-')[1])\n",
    "        \n",
    "        second_elf = pair.split(',')[1][:-1]\n",
    "        second_elf_id1 = int(second_elf.split('-')[0])\n",
    "        second_elf_id2 = int(second_elf.split('-')[1])\n",
    "        \n",
    "        # check if first elf ids contain second elf ids\n",
    "        first_contains_second = (first_elf_id1 <= second_elf_id1) & (first_elf_id2 >= second_elf_id2)\n",
    "        \n",
    "        # check if second elf ids contain first elf ids\n",
    "        second_contains_first = (first_elf_id1 >= second_elf_id1) & (first_elf_id2 <= second_elf_id2)\n",
    "        \n",
    "        # increase counter if either elf ids contains the other\n",
    "        if (first_contains_second | second_contains_first):\n",
    "            counter += 1\n",
    "\n",
    "print(counter)"
   ]
  },
  {
   "cell_type": "markdown",
   "id": "562072f1-1688-4923-8dc4-75534572c50f",
   "metadata": {},
   "source": [
    "## Exercise 2"
   ]
  },
  {
   "cell_type": "code",
   "execution_count": 28,
   "id": "804e7c8e-406c-4199-b7ee-b19c671eb1c1",
   "metadata": {},
   "outputs": [
    {
     "name": "stdout",
     "output_type": "stream",
     "text": [
      "917\n"
     ]
    }
   ],
   "source": [
    "counter = 0\n",
    "with open('day4-input') as file:\n",
    "\n",
    "    for pair in file:\n",
    "        \n",
    "        # get set of ids for each pair and elf\n",
    "        first_elf = pair.split(',')[0]\n",
    "        first_elf_id1 = int(first_elf.split('-')[0])\n",
    "        first_elf_id2 = int(first_elf.split('-')[1])\n",
    "        first_elf_ids = set([i for i in range(first_elf_id1, first_elf_id2 + 1)])\n",
    "        \n",
    "        second_elf = pair.split(',')[1][:-1]\n",
    "        second_elf_id1 = int(second_elf.split('-')[0])\n",
    "        second_elf_id2 = int(second_elf.split('-')[1])\n",
    "        second_elf_ids = set([i for i in range(second_elf_id1, second_elf_id2 + 1)])\n",
    "        \n",
    "        # check the intersection between the elfs' id sets\n",
    "        intersect = second_elf_ids.intersection(first_elf_ids)\n",
    "        \n",
    "        # there is an overlap if the length of the intersection is above zero\n",
    "        if len(intersect) > 0:\n",
    "            counter += 1\n",
    "\n",
    "print(counter)"
   ]
  }
 ],
 "metadata": {
  "kernelspec": {
   "display_name": "Python 3 (ipykernel)",
   "language": "python",
   "name": "python3"
  },
  "language_info": {
   "codemirror_mode": {
    "name": "ipython",
    "version": 3
   },
   "file_extension": ".py",
   "mimetype": "text/x-python",
   "name": "python",
   "nbconvert_exporter": "python",
   "pygments_lexer": "ipython3",
   "version": "3.10.6"
  }
 },
 "nbformat": 4,
 "nbformat_minor": 5
}
